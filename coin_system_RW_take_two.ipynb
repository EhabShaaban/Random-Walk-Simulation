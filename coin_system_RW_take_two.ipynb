{
 "cells": [
  {
   "cell_type": "code",
   "execution_count": 1,
   "metadata": {},
   "outputs": [],
   "source": [
    "import numpy as np"
   ]
  },
  {
   "cell_type": "code",
   "execution_count": 2,
   "metadata": {},
   "outputs": [],
   "source": [
    "np.random.seed(123)"
   ]
  },
  {
   "cell_type": "code",
   "execution_count": 11,
   "metadata": {},
   "outputs": [
    {
     "name": "stdout",
     "output_type": "stream",
     "text": [
      "[0, 1, 1, 1, 1, 1, 2, 2, 3, 4, 4]\n"
     ]
    }
   ],
   "source": [
    "tails = [0]\n",
    "for i in range(10):\n",
    "    rw_coin = np.random.randint(0,2)\n",
    "    tails.append(tails[i]+rw_coin)\n",
    "print(tails) #4 times\n",
    "#['heads','tails','tails','tails','heads','heads','tails','heads','heads','tails']\n",
    "#[0, 0, 1, 2, 3, 3, 3, 4, 4, 4, 5]\n",
    "#after another 5 times *total 9 times so far //4+5//\n",
    "#['tails','heads','heads','heads','heads','tails','heads','tails','tails','heads']\n",
    "#[0, 1, 1, 1, 1, 1, 2, 2, 3, 4, 4]"
   ]
  }
 ],
 "metadata": {
  "kernelspec": {
   "display_name": "Python 3",
   "language": "python",
   "name": "python3"
  },
  "language_info": {
   "codemirror_mode": {
    "name": "ipython",
    "version": 3
   },
   "file_extension": ".py",
   "mimetype": "text/x-python",
   "name": "python",
   "nbconvert_exporter": "python",
   "pygments_lexer": "ipython3",
   "version": "3.6.5"
  }
 },
 "nbformat": 4,
 "nbformat_minor": 2
}
